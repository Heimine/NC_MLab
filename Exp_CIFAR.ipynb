{
 "cells": [
  {
   "cell_type": "markdown",
   "id": "8c3af688-e933-4e6a-8a2b-27dc2828d305",
   "metadata": {},
   "source": [
    "## Same to Exp_MNIST.ipynb, but for CIFAR"
   ]
  },
  {
   "cell_type": "code",
   "execution_count": 1,
   "id": "78ad58c4-956b-47ca-8518-507056efdfa1",
   "metadata": {
    "tags": []
   },
   "outputs": [],
   "source": [
    "import torch\n",
    "import torchvision\n",
    "from torchvision.datasets import CIFAR10\n",
    "import torch.nn.functional as F\n",
    "import matplotlib.pyplot as plt\n",
    "import numpy as np"
   ]
  },
  {
   "cell_type": "code",
   "execution_count": 2,
   "id": "03b6b2fa-277e-4bfc-9ccd-b85be97f24af",
   "metadata": {
    "tags": []
   },
   "outputs": [
    {
     "name": "stdout",
     "output_type": "stream",
     "text": [
      "Files already downloaded and verified\n",
      "Files already downloaded and verified\n"
     ]
    }
   ],
   "source": [
    "data_dir = \"/scratch/qingqu_root/qingqu1/xlxiao/DL/data/\"\n",
    "c10_train = CIFAR10(root=data_dir, download=True, train=True, transform=None)\n",
    "c10_test = CIFAR10(root=data_dir, download=True, train=False, transform=None)"
   ]
  },
  {
   "cell_type": "code",
   "execution_count": 3,
   "id": "4280bddd-6c9c-4f48-8ecd-300dc514525c",
   "metadata": {
    "tags": []
   },
   "outputs": [],
   "source": [
    "def pad_image(image,pad_size,left=True):\n",
    "    pad_one_end = np.random.randint(int(pad_size//4))\n",
    "    pad_other_end = int(pad_size - pad_one_end)\n",
    "    if left:\n",
    "        new_image = F.pad(image, (pad_other_end, pad_one_end, pad_other_end, pad_one_end),\"constant\", 0)\n",
    "    else: \n",
    "        new_image = F.pad(image, (pad_one_end, pad_other_end, pad_one_end, pad_other_end),\"constant\", 0)\n",
    "    return new_image\n",
    "\n",
    "def create_m1_samples(data, targets, class_size=5000, pad_size=32):\n",
    "    all_data = []\n",
    "    all_targets = []\n",
    "    for cla_idx in range(10):\n",
    "        cla_length = np.sum(targets==cla_idx).item()\n",
    "        # Some randomness\n",
    "        chosen_ones = np.random.permutation(cla_length)[:class_size]\n",
    "        cur_cla_data = data[targets==cla_idx][chosen_ones]\n",
    "        for i in range(class_size):\n",
    "            first_left = torch.rand(1) < 0.5\n",
    "            im = cur_cla_data[i]\n",
    "            cur_data = pad_image(torch.from_numpy(im).float().permute(2,0,1), pad_size, first_left)\n",
    "            all_data.append(cur_data)\n",
    "            \n",
    "            cur_target = torch.zeros(10)\n",
    "            cur_target[cla_idx] = 1.0\n",
    "            all_targets.append(cur_target)\n",
    "    return torch.stack(all_data, dim=0), torch.stack(all_targets, dim=0)\n",
    "\n",
    "def create_m2_samples(data, targets, class_size=5000, pad_size=28):\n",
    "    all_data = []\n",
    "    all_targets = []\n",
    "    for idx_1 in range(10):\n",
    "        for idx_2 in range(idx_1+1, 10):\n",
    "            cla_length_1 = np.sum(targets==idx_1).item()\n",
    "            cla_length_2 = np.sum(targets==idx_2).item()\n",
    "            # Some randomness\n",
    "            chosen_ones_1 = np.random.permutation(cla_length_1)[:class_size]\n",
    "            chosen_ones_2 = np.random.permutation(cla_length_2)[:class_size]\n",
    "            cla_data_1 = data[targets==idx_1][chosen_ones_1]\n",
    "            cla_data_2 = data[targets==idx_2][chosen_ones_2]\n",
    "        \n",
    "            for i in range(class_size):\n",
    "                first_left = torch.rand(1) < 0.5\n",
    "                cur_data_1 = pad_image(torch.from_numpy(cla_data_1[i]).float().permute(2,0,1), pad_size, left=first_left)\n",
    "                cur_data_2 = pad_image(torch.from_numpy(cla_data_2[i]).float().permute(2,0,1), pad_size, left=not first_left)\n",
    "                all_data.append(torch.maximum(cur_data_1, cur_data_2))\n",
    "\n",
    "                cur_target = torch.zeros(10)\n",
    "                cur_target[idx_1] = 0.5\n",
    "                cur_target[idx_2] = 0.5\n",
    "                all_targets.append(cur_target)\n",
    "    return torch.stack(all_data, dim=0), torch.stack(all_targets, dim=0)\n",
    "\n",
    "def create_m3_samples(data, targets, class_size=5000, pad_size=28):\n",
    "    all_data = []\n",
    "    all_targets = []\n",
    "    for idx_1 in range(10):\n",
    "        for idx_2 in range(idx_1+1, 10):\n",
    "            for idx_3 in range(idx_2+1, 10):\n",
    "                cla_length_1 = np.sum(targets==idx_1).item()\n",
    "                cla_length_2 = np.sum(targets==idx_2).item()\n",
    "                cla_length_3 = np.sum(targets==idx_3).item()\n",
    "                # Some randomness\n",
    "                chosen_ones_1 = np.random.permutation(cla_length_1)[:class_size]\n",
    "                chosen_ones_2 = np.random.permutation(cla_length_2)[:class_size]\n",
    "                chosen_ones_3 = np.random.permutation(cla_length_3)[:class_size]\n",
    "                cla_data_1 = data[targets==idx_1][chosen_ones_1]\n",
    "                cla_data_2 = data[targets==idx_2][chosen_ones_2]\n",
    "                cla_data_3 = data[targets==idx_3][chosen_ones_3]\n",
    "            \n",
    "                for i in range(class_size):\n",
    "                    first_left = torch.rand(1) < 0.5\n",
    "                    cur_data_1 = pad_image(torch.from_numpy(cla_data_1[i]).float().permute(2,0,1), pad_size, left=first_left)\n",
    "                    cur_data_2 = pad_image(torch.from_numpy(cla_data_2[i]).float().permute(2,0,1), pad_size, left=not first_left)\n",
    "                    cur_data_3 = pad_image(torch.from_numpy(cla_data_3[i]).float().permute(2,0,1), pad_size, left=not first_left)\n",
    "                    all_data.append(torch.maximum(cur_data_1, cur_data_2, cur_data_3))\n",
    "\n",
    "                    cur_target = torch.zeros(10)\n",
    "                    cur_target[idx_1] = 1/3\n",
    "                    cur_target[idx_2] = 1/3\n",
    "                    cur_target[idx_3] = 1/3\n",
    "                    all_targets.append(cur_target)\n",
    "    return torch.stack(all_data, dim=0), torch.stack(all_targets, dim=0)\n",
    "\n",
    "def create_dataset(num_samples, data, targets, pad_size=32):\n",
    "    m1_num, m2_num = num_samples\n",
    "    m1_data, m1_targets = create_m1_samples(data, targets, class_size=m1_num, pad_size=pad_size)\n",
    "    m2_data, m2_targets = create_m2_samples(data, targets, class_size=m2_num, pad_size=pad_size)\n",
    "    \n",
    "    return torch.cat([m1_data, m2_data], dim=0), torch.cat([m1_targets, m2_targets], dim=0)"
   ]
  },
  {
   "cell_type": "code",
   "execution_count": 4,
   "id": "76ddbd6b-5707-4343-8c75-76a4e89e818a",
   "metadata": {
    "tags": []
   },
   "outputs": [],
   "source": [
    "trainset, trainlabels = create_dataset([3100, 200], c10_train.data / np.max(c10_train.data), \n",
    "                                       np.array(c10_train.targets), pad_size=32)\n",
    "testset, testlabels = create_dataset([800, 50], c10_test.data / np.max(c10_train.data), \n",
    "                                       np.array(c10_test.targets), pad_size=32)"
   ]
  },
  {
   "cell_type": "code",
   "execution_count": 5,
   "id": "12df7f56-70d0-4244-bbe8-5e4fad26f104",
   "metadata": {
    "tags": []
   },
   "outputs": [],
   "source": [
    "import pickle\n",
    "to_save = {\n",
    "            \"train_data\": trainset,\n",
    "            \"train_label\": trainlabels,\n",
    "            \"test_data\": testset,\n",
    "            \"test_label\": testlabels\n",
    "            }\n",
    "    \n",
    "with open(\"/scratch/qingqu_root/qingqu1/xlxiao/DL/data/c10_combine.pkl\", 'wb') as f: \n",
    "    pickle.dump(to_save, f)"
   ]
  },
  {
   "cell_type": "code",
   "execution_count": 120,
   "id": "4bc6bf43-e0dd-4f33-b279-019f5cb049cf",
   "metadata": {
    "tags": []
   },
   "outputs": [
    {
     "name": "stdout",
     "output_type": "stream",
     "text": [
      "tensor([0.5000, 0.5000, 0.0000, 0.0000, 0.0000, 0.0000, 0.0000, 0.0000, 0.0000,\n",
      "        0.0000])\n"
     ]
    },
    {
     "data": {
      "image/png": "[encoded data removed]",
      "text/plain": [
       "<Figure size 800x800 with 1 Axes>"
      ]
     },
     "metadata": {},
     "output_type": "display_data"
    }
   ],
   "source": [
    "idx = 31003 # 31003\n",
    "fig = plt.figure(figsize=(8,8))\n",
    "plt.imshow(trainset[idx].permute(1,2,0))\n",
    "plt.axis(\"off\")\n",
    "plt.title(\"Class: Car & Airplane\", fontsize=30)\n",
    "fig.savefig(\"figs/c10_car_airplane.pdf\", bbox_inches='tight')\n",
    "\n",
    "print(trainlabels[idx])\n"
   ]
  },
  {
   "cell_type": "code",
   "execution_count": 121,
   "id": "a7651bf6-a6a9-4927-8317-1945cbb63931",
   "metadata": {
    "tags": []
   },
   "outputs": [],
   "source": [
    "from define_data import MNIST_Combine\n",
    "\n",
    "trainset_mnist = MNIST_Combine(\"/scratch/qingqu_root/qingqu1/xlxiao/DL/data/mnist_combine.pkl\", train=True)"
   ]
  },
  {
   "cell_type": "code",
   "execution_count": 137,
   "id": "a7467073-26ea-4bc2-a906-b5fc2ca84c1f",
   "metadata": {
    "tags": []
   },
   "outputs": [
    {
     "name": "stdout",
     "output_type": "stream",
     "text": [
      "tensor([0.0000, 0.5000, 0.0000, 0.5000, 0.0000, 0.0000, 0.0000, 0.0000, 0.0000,\n",
      "        0.0000])\n"
     ]
    },
    {
     "data": {
      "image/png": "[encoded data removed]",
      "text/plain": [
       "<Figure size 800x800 with 1 Axes>"
      ]
     },
     "metadata": {},
     "output_type": "display_data"
    }
   ],
   "source": [
    "idx = 33004\n",
    "\n",
    "fig = plt.figure(figsize=(8,8))\n",
    "plt.imshow(trainset_mnist[idx][0][0], cmap=\"gray\")\n",
    "plt.axis(\"off\")\n",
    "plt.title(\"Class: 3 & 1\", fontsize=30)\n",
    "fig.savefig(\"figs/mnist_3_1.pdf\", bbox_inches='tight')\n",
    "\n",
    "print(trainset_mnist[idx][1])"
   ]
  },
  {
   "cell_type": "code",
   "execution_count": null,
   "id": "a5c7a088-3e05-4658-8e81-bcacca3b9d8b",
   "metadata": {},
   "outputs": [],
   "source": []
  }
 ],
 "metadata": {
  "kernelspec": {
   "display_name": "Python 3 (ipykernel)",
   "language": "python",
   "name": "python3"
  },
  "language_info": {
   "codemirror_mode": {
    "name": "ipython",
    "version": 3
   },
   "file_extension": ".py",
   "mimetype": "text/x-python",
   "name": "python",
   "nbconvert_exporter": "python",
   "pygments_lexer": "ipython3",
   "version": "3.9.7"
  }
 },
 "nbformat": 4,
 "nbformat_minor": 5
}
