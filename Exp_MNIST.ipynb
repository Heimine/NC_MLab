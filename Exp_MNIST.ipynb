{
 "cells": [
  {
   "cell_type": "code",
   "execution_count": 1,
   "id": "32f72bc4-f5db-4fb3-ad70-5eb1b761f818",
   "metadata": {
    "tags": []
   },
   "outputs": [],
   "source": [
    "import torch\n",
    "import torchvision\n",
    "from torchvision.datasets import MNIST\n",
    "import torch.nn.functional as F\n",
    "import matplotlib.pyplot as plt\n",
    "import numpy as np"
   ]
  },
  {
   "cell_type": "code",
   "execution_count": null,
   "id": "91772411-0f2b-4551-830c-b73dd56814bf",
   "metadata": {
    "tags": []
   },
   "outputs": [],
   "source": [
    "data_dir = \"/scratch/qingqu_root/qingqu1/DL/xlxiao/data/\"\n",
    "mnist_train = MNIST(root=data_dir, download=True, train=True, transform=None)\n",
    "mnist_test = MNIST(root=data_dir, download=True, train=False, transform=None)"
   ]
  },
  {
   "cell_type": "code",
   "execution_count": 6,
   "id": "e92ecd8b-ffd2-4382-9d46-5792722ff866",
   "metadata": {
    "tags": []
   },
   "outputs": [],
   "source": [
    "def pad_image(image,pad_size,left=True):\n",
    "    if left:\n",
    "        new_image = F.pad(image, (pad_size, 0, pad_size, 0),\"constant\", 0)\n",
    "    else: \n",
    "        new_image = F.pad(image, (0, pad_size, 0, pad_size),\"constant\", 0)\n",
    "    return new_image\n",
    "\n",
    "def random_shift(image, max_shift):\n",
    "\n",
    "    right_shift = np.random.randint(max_shift)\n",
    "    down_shift = np.random.randint(max_shift)\n",
    "\n",
    "    new_image = torch.roll(image, shifts=(down_shift, right_shift), dims=(0, 1))\n",
    "    return new_image\n",
    "\n",
    "def pad_then_shift(image, pad_size, left=True):\n",
    "    return random_shift(pad_image(image, pad_size, left),pad_size/4)\n",
    "\n",
    "def create_m1_samples(data, targets, class_size=5000, pad_size=28):\n",
    "    all_data = []\n",
    "    all_targets = []\n",
    "    for cla_idx in range(10):\n",
    "        cla_length = torch.sum(targets==cla_idx).item()\n",
    "        # Some randomness\n",
    "        chosen_ones = np.random.permutation(cla_length)[:class_size]\n",
    "        cur_cla_data = data[targets==cla_idx][chosen_ones]\n",
    "        for i in range(class_size):\n",
    "            cur_data = pad_then_shift(cur_cla_data[i], pad_size)\n",
    "            all_data.append(cur_data)\n",
    "            \n",
    "            cur_target = torch.zeros(10)\n",
    "            cur_target[cla_idx] = 1.0\n",
    "            all_targets.append(cur_target)\n",
    "    return torch.stack(all_data, dim=0), torch.stack(all_targets, dim=0)\n",
    "\n",
    "def create_m2_samples(data, targets, class_size=5000, pad_size=28):\n",
    "    all_data = []\n",
    "    all_targets = []\n",
    "    for idx_1 in range(10):\n",
    "        for idx_2 in range(idx_1+1, 10):\n",
    "            cla_length_1 = torch.sum(targets==idx_1).item()\n",
    "            cla_length_2 = torch.sum(targets==idx_2).item()\n",
    "            # Some randomness\n",
    "            chosen_ones_1 = np.random.permutation(cla_length_1)[:class_size]\n",
    "            chosen_ones_2 = np.random.permutation(cla_length_2)[:class_size]\n",
    "            cla_data_1 = data[targets==idx_1][chosen_ones_1]\n",
    "            cla_data_2 = data[targets==idx_2][chosen_ones_2]\n",
    "        \n",
    "            for i in range(class_size):\n",
    "                first_left = torch.rand(1) < 0.5\n",
    "                cur_data_1 = pad_then_shift(cla_data_1[i], pad_size, left=first_left)\n",
    "                cur_data_2 = pad_then_shift(cla_data_2[i], pad_size, left=not first_left)\n",
    "                all_data.append(torch.maximum(cur_data_1, cur_data_2))\n",
    "\n",
    "                cur_target = torch.zeros(10)\n",
    "                cur_target[idx_1] = 0.5\n",
    "                cur_target[idx_2] = 0.5\n",
    "                all_targets.append(cur_target)\n",
    "    return torch.stack(all_data, dim=0), torch.stack(all_targets, dim=0)\n",
    "\n",
    "def create_dataset(num_samples, data, targets, pad_size=28):\n",
    "    m1_num, m2_num = num_samples\n",
    "    m1_data, m1_targets = create_m1_samples(data, targets, class_size=m1_num, pad_size=pad_size)\n",
    "    m2_data, m2_targets = create_m2_samples(data, targets, class_size=m2_num, pad_size=pad_size)\n",
    "    \n",
    "    return torch.cat([m1_data, m2_data], dim=0), torch.cat([m1_targets, m2_targets], dim=0)"
   ]
  },
  {
   "cell_type": "code",
   "execution_count": 7,
   "id": "8e0e0497-144f-47ba-8b80-fd109d5daa2d",
   "metadata": {
    "tags": []
   },
   "outputs": [],
   "source": [
    "trainset, trainlabels = create_dataset([3100, 200], mnist_train.data / torch.max(mnist_train.data), \n",
    "                                       mnist_train.targets, pad_size=28)\n",
    "testset, testlabels = create_dataset([800, 50], mnist_test.data / torch.max(mnist_test.data), \n",
    "                                       mnist_test.targets, pad_size=28)"
   ]
  },
  {
   "cell_type": "code",
   "execution_count": 13,
   "id": "e47ccf0a-eb4b-4c0a-87bf-e5d52992fe83",
   "metadata": {
    "tags": []
   },
   "outputs": [],
   "source": [
    "import pickle\n",
    "to_save = {\n",
    "            \"train_data\": trainset,\n",
    "            \"train_label\": trainlabels,\n",
    "            \"test_data\": testset,\n",
    "            \"test_label\": testlabels\n",
    "            }\n",
    "    \n",
    "with open(\"/scratch/qingqu_root/qingqu1/xlxiao/DL/data/mnist_combine.pkl\", 'wb') as f: \n",
    "    pickle.dump(to_save, f)"
   ]
  },
  {
   "cell_type": "code",
   "execution_count": null,
   "id": "ecc54881",
   "metadata": {},
   "outputs": [],
   "source": []
  }
 ],
 "metadata": {
  "kernelspec": {
   "display_name": "Python 3 (ipykernel)",
   "language": "python",
   "name": "python3"
  },
  "language_info": {
   "codemirror_mode": {
    "name": "ipython",
    "version": 3
   },
   "file_extension": ".py",
   "mimetype": "text/x-python",
   "name": "python",
   "nbconvert_exporter": "python",
   "pygments_lexer": "ipython3",
   "version": "3.9.7"
  }
 },
 "nbformat": 4,
 "nbformat_minor": 5
}
